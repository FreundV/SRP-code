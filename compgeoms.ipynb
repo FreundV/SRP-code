{
 "cells": [
  {
   "cell_type": "markdown",
   "metadata": {},
   "source": [
    "# Comparing Geometries"
   ]
  },
  {
   "cell_type": "code",
   "execution_count": 523,
   "metadata": {},
   "outputs": [],
   "source": [
    "import scipy\n",
    "import numpy as np\n",
    "import os\n",
    "import matplotlib.pyplot as plt\n",
    "import sys\n",
    "import math\n",
    "from scipy.optimize import leastsq\n",
    "method_dict = {'PM3':-7,'AM1':-2, 'RM1':-2, 'OM1':-5, 'OM2':-6, 'OM3':-8,'ODM2':-22, 'ODM3':-23}\n",
    "            \n",
    "at_num_dict = {'h':1, 'he':2, 'li':3, 'be':4, 'b':5,'c':6, 'n':7, 'o':8, 'f':9}\n",
    "def read_input(file):\n",
    "    with open(file) as f_in:\n",
    "        lines = f_in.readlines() \n",
    "    n_parms= int(lines[0].split()[0])\n",
    "    method = lines[1].split()[0]\n",
    "    method_num = method_dict[method.upper().replace(\"ORTHO\", \"\")]\n",
    "    n_molec = int(lines[2].split()[0])\n",
    "    n_atoms=[]\n",
    "    charge =[]\n",
    "    structures=[]\n",
    "    energy_files=[]\n",
    "    structure_files = []\n",
    "    at_num=[[] for x in range(n_molec)]\n",
    "    coords=[[] for x in range(n_molec)]\n",
    "    geoms =[[] for x in range(n_molec)]\n",
    "    \n",
    "    \n",
    "    n = 3\n",
    "    for mol in range(n_molec):\n",
    "        n_atoms.append(int(lines[n].split()[0]))   # set the number of atoms in a molecule\n",
    "        charge.append(int(lines[n+1].split()[0]))  # set the charge on the molecule\n",
    "        structures.append(int(lines[n+2].split()[0])) # set the number of structures\n",
    "        energy_files.append(lines[n+3].split()[0])  # set the file to find the energies\n",
    "        structure_files.append([lines[n+4].split()[0],int(lines[n+4].split()[1])]) # set the filename for the structures (the second flag is for atomic units = 1 or angstroms =0)\n",
    "        if (structure_files[mol][1] == 1):\n",
    "            scale = 0.529\n",
    "        else:\n",
    "            scale = 1.\n",
    "        for atom in range(n_atoms[mol]):\n",
    "            line = lines[n+5+atom].split() \n",
    "            check = np.array(line[1:],dtype=float)\n",
    "            at_num[mol].append(at_num_dict[line[0].lower()])\n",
    "            coords[mol].append(np.array([x*scale for x in check]))\n",
    "        n += n_atoms[mol]+5\n",
    "    return method_num, n_molec, n_atoms, charge, structures, energy_files, structure_files, at_num, coords\n"
   ]
  },
  {
   "cell_type": "code",
   "execution_count": 524,
   "metadata": {},
   "outputs": [],
   "source": [
    "meth_num, n_molec, n_atoms, charge, structures, energy_files, structure_files, at_num, coords = read_input(\"main.inp\")"
   ]
  },
  {
   "cell_type": "code",
   "execution_count": 525,
   "metadata": {},
   "outputs": [],
   "source": [
    "outfile = open(\"opt0.out\", \"r\")\n",
    "optlines = outfile.readlines()\n",
    "intgeom = []\n",
    "optgeom = []\n",
    "for n,line in enumerate(optlines):\n",
    "    if \"INPUT GEOMETRY\" in line:\n",
    "        for atoms in range(n_atoms[0]):\n",
    "            m = optlines[n+atoms+6].strip()\n",
    "            o = m.split()[2::2]\n",
    "            intgeom.append(o)\n",
    "    if \"FINAL CARTESIAN GRADIENT NORM\" in line:\n",
    "        for atoms in range(n_atoms[0]):\n",
    "            z = optlines[n+atoms+8].strip()\n",
    "            y = z.split()[2::2]\n",
    "            optgeom.append(y)\n",
    "intgeom = np.array(intgeom).astype(float)\n",
    "optgeom = np.array(optgeom).astype(float)\n"
   ]
  },
  {
   "cell_type": "markdown",
   "metadata": {},
   "source": [
    "readfile = open(\"main.inp\", \"r\")\n",
    "lines = readfile.readlines()\n",
    "text_file = open(\"geom-exmpl.out\", \"w\")\n",
    "for line in lines: \n",
    "    if \"bond\" in line:\n",
    "        l = line.split()\n",
    "        at_bond = ' '.join(map(str, l))\n",
    "        dist1 = np.linalg.norm(coords[0][int(l[1])-1]-coords[0][int(l[2])-1])\n",
    "        dist4 = np.linalg.norm(optgeom[int(l[1])-1]-optgeom[int(l[2])-1])\n",
    "        diff1 = dist1-dist4\n",
    "        print(f'{at_bond} {dist1:.4} {dist4:.4} {diff1:.4}', file=text_file) #how many decimal places?\n",
    "    if \"angle\" in line: #more direct way to do this?\n",
    "        m = line.split()    \n",
    "        at_ang = ' '.join(map(str, m))\n",
    "        dot1 = np.dot((coords[0][int(m[1])-1]-coords[0][int(m[2])-1]), (coords[0][int(m[3])-1]-coords[0][int(m[2])-1]))\n",
    "        dist2 = np.linalg.norm(coords[0][int(m[1])-1]-coords[0][int(m[2])-1])\n",
    "        dist3 = np.linalg.norm(coords[0][int(m[3])-1]-coords[0][int(m[2])-1])\n",
    "        cos1 = dot1/(dist2*dist3)\n",
    "        angle1 = (math.acos(cos1))*57.295779513\n",
    "        dot2 = np.dot((optgeom[int(m[1])-1]-optgeom[int(m[2])-1]), (optgeom[int(m[3])-1]-optgeom[int(m[2])-1]))\n",
    "        dist5 = np.linalg.norm(optgeom[int(m[1])-1]-optgeom[int(m[2])-1])\n",
    "        dist6 = np.linalg.norm(optgeom[int(m[3])-1]-optgeom[int(m[2])-1])\n",
    "        cos2 = dot2/(dist5*dist6)\n",
    "        angle2 = (math.acos(cos2))*57.295779513\n",
    "        diff2 = angle1-angle2\n",
    "        print(f'{at_ang} {angle1:.4} {angle2:.4} {diff2:.4}', file=text_file)\n",
    "outfile.close()\n",
    "readfile.close()\n"
   ]
  },
  {
   "cell_type": "code",
   "execution_count": 529,
   "metadata": {},
   "outputs": [
    {
     "name": "stdout",
     "output_type": "stream",
     "text": [
      "angle 3 1 2\n",
      "angle 1 3 5\n"
     ]
    }
   ],
   "source": [
    "text_file = open(\"geom-exmpl.out\", \"w\")\n",
    "geoms = [[['bond', '1', '2'], ['bond', '2', '4'], ['angle', '3', '1', '2'], ['angle', '1', '3', '5']]]\n",
    "for mol in range(n_molec):\n",
    "    for geom in geoms[mol]:\n",
    "        if geom[0] == 'bond':\n",
    "            at_bond = ' '.join(map(str, geom))\n",
    "            dist1 = np.linalg.norm(intgeom[int(geom[1])-1]-intgeom[int(geom[2])-1])\n",
    "            dist4 = np.linalg.norm(optgeom[int(geom[1])-1]-optgeom[int(geom[2])-1])\n",
    "            diff1 = dist1-dist4\n",
    "            print(f'{at_bond} {dist1:.4} {dist4:.4} {diff1:.4}', file=text_file) #how many decimal places?\n",
    "        if geom[0] == 'angle':    \n",
    "            at_ang = ' '.join(map(str, geom))\n",
    "            dot1 = np.dot((intgeom[int(geom[1])-1]-intgeom[int(geom[2])-1]), (intgeom[int(geom[3])-1]-intgeom[int(geom[2])-1]))\n",
    "            dist2 = np.linalg.norm(intgeom[int(geom[1])-1]-intgeom[int(geom[2])-1])\n",
    "            dist3 = np.linalg.norm(intgeom[int(geom[3])-1]-intgeom[int(geom[2])-1])\n",
    "            cos1 = dot1/(dist2*dist3)\n",
    "            angle1 = (math.acos(cos1))*57.295779513\n",
    "            dot2 = np.dot((optgeom[int(geom[1])-1]-optgeom[int(geom[2])-1]), (optgeom[int(geom[3])-1]-optgeom[int(geom[2])-1]))\n",
    "            dist5 = np.linalg.norm(optgeom[int(geom[1])-1]-optgeom[int(geom[2])-1])\n",
    "            dist6 = np.linalg.norm(optgeom[int(geom[3])-1]-optgeom[int(geom[2])-1])\n",
    "            cos2 = dot2/(dist5*dist6)\n",
    "            angle2 = (math.acos(cos2))*57.295779513\n",
    "            diff2 = angle1-angle2\n",
    "            print(at_ang)\n",
    "            print(f'{at_ang} {angle1:.4} {angle2:.4} {diff2:.4}', file=text_file)\n",
    "text_file.close()"
   ]
  },
  {
   "cell_type": "markdown",
   "metadata": {},
   "source": [
    "# Checking the Answer is Correct with Math by \"Hand\""
   ]
  },
  {
   "cell_type": "code",
   "execution_count": 304,
   "metadata": {},
   "outputs": [],
   "source": [
    "dist0 = np.linalg.norm(coords[0][0]-coords[0][1])"
   ]
  },
  {
   "cell_type": "code",
   "execution_count": 22,
   "metadata": {},
   "outputs": [
    {
     "data": {
      "text/plain": [
       "1.416799794756498"
      ]
     },
     "execution_count": 22,
     "metadata": {},
     "output_type": "execute_result"
    }
   ],
   "source": [
    "np.sqrt(((-1.67486-.69388)**2+1.24986**2))*0.529"
   ]
  },
  {
   "cell_type": "markdown",
   "metadata": {},
   "source": [
    "Checked the angle math with a website"
   ]
  },
  {
   "cell_type": "code",
   "execution_count": 530,
   "metadata": {},
   "outputs": [
    {
     "data": {
      "text/plain": [
       "\u001b[0;31mSignature:\u001b[0m \u001b[0mnp\u001b[0m\u001b[0;34m.\u001b[0m\u001b[0mvstack\u001b[0m\u001b[0;34m(\u001b[0m\u001b[0mtup\u001b[0m\u001b[0;34m)\u001b[0m\u001b[0;34m\u001b[0m\u001b[0;34m\u001b[0m\u001b[0m\n",
       "\u001b[0;31mDocstring:\u001b[0m\n",
       "Stack arrays in sequence vertically (row wise).\n",
       "\n",
       "This is equivalent to concatenation along the first axis after 1-D arrays\n",
       "of shape `(N,)` have been reshaped to `(1,N)`. Rebuilds arrays divided by\n",
       "`vsplit`.\n",
       "\n",
       "This function makes most sense for arrays with up to 3 dimensions. For\n",
       "instance, for pixel-data with a height (first axis), width (second axis),\n",
       "and r/g/b channels (third axis). The functions `concatenate`, `stack` and\n",
       "`block` provide more general stacking and concatenation operations.\n",
       "\n",
       "Parameters\n",
       "----------\n",
       "tup : sequence of ndarrays\n",
       "    The arrays must have the same shape along all but the first axis.\n",
       "    1-D arrays must have the same length.\n",
       "\n",
       "Returns\n",
       "-------\n",
       "stacked : ndarray\n",
       "    The array formed by stacking the given arrays, will be at least 2-D.\n",
       "\n",
       "See Also\n",
       "--------\n",
       "stack : Join a sequence of arrays along a new axis.\n",
       "hstack : Stack arrays in sequence horizontally (column wise).\n",
       "dstack : Stack arrays in sequence depth wise (along third dimension).\n",
       "concatenate : Join a sequence of arrays along an existing axis.\n",
       "vsplit : Split array into a list of multiple sub-arrays vertically.\n",
       "block : Assemble arrays from blocks.\n",
       "\n",
       "Examples\n",
       "--------\n",
       ">>> a = np.array([1, 2, 3])\n",
       ">>> b = np.array([2, 3, 4])\n",
       ">>> np.vstack((a,b))\n",
       "array([[1, 2, 3],\n",
       "       [2, 3, 4]])\n",
       "\n",
       ">>> a = np.array([[1], [2], [3]])\n",
       ">>> b = np.array([[2], [3], [4]])\n",
       ">>> np.vstack((a,b))\n",
       "array([[1],\n",
       "       [2],\n",
       "       [3],\n",
       "       [2],\n",
       "       [3],\n",
       "       [4]])\n",
       "\u001b[0;31mFile:\u001b[0m      /share/apps/anaconda3/lib/python3.6/site-packages/numpy/core/shape_base.py\n",
       "\u001b[0;31mType:\u001b[0m      function\n"
      ]
     },
     "metadata": {},
     "output_type": "display_data"
    }
   ],
   "source": [
    "np."
   ]
  },
  {
   "cell_type": "code",
   "execution_count": null,
   "metadata": {},
   "outputs": [],
   "source": []
  }
 ],
 "metadata": {
  "kernelspec": {
   "display_name": "Python 3",
   "language": "python",
   "name": "python3"
  },
  "language_info": {
   "codemirror_mode": {
    "name": "ipython",
    "version": 3
   },
   "file_extension": ".py",
   "mimetype": "text/x-python",
   "name": "python",
   "nbconvert_exporter": "python",
   "pygments_lexer": "ipython3",
   "version": "3.6.7"
  }
 },
 "nbformat": 4,
 "nbformat_minor": 2
}
